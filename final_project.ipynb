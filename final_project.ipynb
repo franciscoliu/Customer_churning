{
 "cells": [
  {
   "cell_type": "code",
   "execution_count": 1,
   "id": "fa636d6a",
   "metadata": {},
   "outputs": [],
   "source": [
    "# import packages\n",
    "\n",
    "import pandas as pd\n",
    "import numpy as np\n",
    "import statistics\n",
    "import xgboost as xgb\n",
    "from sklearn.experimental import enable_iterative_imputer\n",
    "from sklearn.impute import IterativeImputer\n",
    "from sklearn.model_selection import KFold, train_test_split, cross_val_score, cross_val_predict, StratifiedKFold\n",
    "from sklearn.utils.multiclass import type_of_target\n",
    "from sklearn.preprocessing import OneHotEncoder, LabelEncoder, StandardScaler\n",
    "from sklearn.pipeline import make_pipeline\n",
    "from sklearn import tree\n",
    "from sklearn.svm import SVC\n",
    "import matplotlib.pyplot as plt\n",
    "from sklearn.metrics import confusion_matrix, classification_report, roc_auc_score, roc_curve, plot_confusion_matrix\n",
    "from sklearn.metrics import average_precision_score, precision_recall_curve, auc, plot_precision_recall_curve\n",
    "from sklearn.ensemble import BaggingClassifier, RandomForestClassifier, AdaBoostClassifier"
   ]
  },
  {
   "cell_type": "code",
   "execution_count": 5,
   "id": "0b363d31",
   "metadata": {},
   "outputs": [],
   "source": [
    "# import data\n",
    "\n",
    "bank_data = pd.read_csv(\"BankChurners.csv\").drop(columns = ['CLIENTNUM'])\n",
    "\n",
    "bank_data = bank_data.replace('Unknown', np.nan)\n",
    "\n",
    "# Transfer card category to integers, because there is a hierarical relationship\n",
    "card_cate_map = {'Blue': 0, 'Silver': 1, 'Gold':2, 'Platinum': 3}\n",
    "for i in range(len(bank_data['Card_Category'])):\n",
    "    for j in card_cate_map:\n",
    "        if bank_data['Card_Category'][i] == j:\n",
    "            bank_data.at[i, 'Card_Category'] = card_cate_map[j]       \n",
    "\n",
    "# Transfer education category to integers, because there is a hierarical relationship\n",
    "education_cate_map = {'Uneducated':0,'High School':1,'College':2,'Graduate':3,'Post-Graduate':4, 'Doctorate':5 }\n",
    "for i in range(len(bank_data['Education_Level'])):\n",
    "    for j in education_cate_map:\n",
    "        if bank_data['Education_Level'][i] == j:\n",
    "            bank_data.at[i, 'Education_Level'] = education_cate_map[j]\n",
    "\n",
    "# Transfer income level category to integers, because there is a hierarical relationship\n",
    "income_cate_map = { 'Less than $40K': 0, '$40K - $60K': 1, '$60K - $80K': 2, '$80K - $120K':3, '$120K +': 4}\n",
    "for i in range(len(bank_data['Income_Category'])):\n",
    "    for j in income_cate_map:\n",
    "        if bank_data['Income_Category'][i] == j:\n",
    "            bank_data.at[i, 'Income_Category'] = income_cate_map[j]\n",
    "\n",
    "# Transfer attrition flag to zeros and ones, because it is the target and should be binary\n",
    "attrition_flag_map = {'Existing Customer': 0, 'Attrited Customer': 1}\n",
    "for i in range(len(bank_data['Attrition_Flag'])):\n",
    "    for j in attrition_flag_map:\n",
    "        if bank_data['Attrition_Flag'][i] == j:\n",
    "            bank_data.at[i, 'Attrition_Flag'] = attrition_flag_map[j]\n",
    "            \n",
    "data_pd = pd.get_dummies(bank_data, columns = ['Gender','Marital_Status'])\n",
    "\n",
    "data_names = data_pd.columns[1:]"
   ]
  },
  {
   "cell_type": "markdown",
   "id": "641be2bc",
   "metadata": {},
   "source": [
    "### Encoding Method 1: Replacing Unknown Data with Mean Value"
   ]
  },
  {
   "cell_type": "code",
   "execution_count": 6,
   "id": "7843cc5d",
   "metadata": {},
   "outputs": [],
   "source": [
    "data1_pd = data_pd.fillna(data_pd.mean())\n",
    "\n",
    "data1 = data1_pd.to_numpy()"
   ]
  },
  {
   "cell_type": "markdown",
   "id": "3c564b58",
   "metadata": {},
   "source": [
    "### Encoding Method 2: Fixing Unknown Data Using Iterative Imputer"
   ]
  },
  {
   "cell_type": "code",
   "execution_count": 7,
   "id": "cd211512",
   "metadata": {},
   "outputs": [
    {
     "data": {
      "text/plain": [
       "False"
      ]
     },
     "execution_count": 7,
     "metadata": {},
     "output_type": "execute_result"
    }
   ],
   "source": [
    "data2_np = data_pd.to_numpy()\n",
    "\n",
    "imp_mean = IterativeImputer(random_state=0)\n",
    "imp_mean.fit(data2_np)\n",
    "IterativeImputer(random_state=0)\n",
    "data2 = imp_mean.transform(data2_np)\n",
    "\n",
    "array_sum = np.sum(data2)\n",
    "array_has_nan = np.isnan(array_sum)\n",
    "array_has_nan"
   ]
  },
  {
   "cell_type": "markdown",
   "id": "6d536487",
   "metadata": {},
   "source": [
    "### Data Proprocessing"
   ]
  },
  {
   "cell_type": "code",
   "execution_count": 8,
   "id": "1997bbef",
   "metadata": {},
   "outputs": [],
   "source": [
    "# Split the target column and features\n",
    "X1 = data1[:, 1:]\n",
    "y1 = data1[:, 0]\n",
    "\n",
    "X2 = data2[:, 1:]\n",
    "y2 = data2[:, 0]\n",
    "\n",
    "# Use LabelEncoder to transform target values into integers.\n",
    "label_encoder = LabelEncoder()\n",
    "y1 = label_encoder.fit_transform(y1)\n",
    "y2 = label_encoder.fit_transform(y2)"
   ]
  },
  {
   "cell_type": "code",
   "execution_count": 9,
   "id": "98e4d350",
   "metadata": {},
   "outputs": [],
   "source": [
    "# Preprocess the data with the StandardScalar\n",
    "sc_X = StandardScaler()\n",
    "X1 = sc_X.fit_transform(X1)\n",
    "X2 = sc_X.fit_transform(X2)"
   ]
  },
  {
   "cell_type": "code",
   "execution_count": 10,
   "id": "0fb230d8",
   "metadata": {},
   "outputs": [
    {
     "name": "stdout",
     "output_type": "stream",
     "text": [
      "There are 2 columns to be dropped in the first preprocessing dataset\n",
      "There are 2 columns to be dropped in the second preprocessing dataset\n"
     ]
    }
   ],
   "source": [
    "# Removes highly correlated data\n",
    "X1 = pd.DataFrame(X1)\n",
    "cor_matrix1 = X1.corr().abs()\n",
    "# Select upper triangle of correlation matrix\n",
    "upper_tri1 = cor_matrix1.where(np.triu(np.ones(cor_matrix1.shape),k=1).astype(bool))\n",
    "to_drop1 = [column for column in upper_tri1.columns if any(upper_tri1[column] > 0.90)]\n",
    "print(\"There are \" + str(len(to_drop1)) + \" columns to be dropped in the first preprocessing dataset\")\n",
    "X1 = X1.drop(X1.columns[to_drop1], axis = 1)\n",
    "feature_mapping1 = []\n",
    "for i in range(len(data_names)):\n",
    "    if i not in to_drop1:\n",
    "        feature_mapping1.append(data_names[i])\n",
    "\n",
    "# Removes highly correlated data\n",
    "X2 = pd.DataFrame(X2)\n",
    "cor_matrix2 = X2.corr().abs()\n",
    "# Select upper triangle of correlation matrix\n",
    "upper_tri2 = cor_matrix2.where(np.triu(np.ones(cor_matrix2.shape),k=1).astype(bool))\n",
    "to_drop2 = [column for column in upper_tri2.columns if any(upper_tri2[column] > 0.90)]\n",
    "print(\"There are \" + str(len(to_drop2)) + \" columns to be dropped in the second preprocessing dataset\")\n",
    "X2 = X2.drop(X2.columns[to_drop2], axis = 1)\n",
    "feature_mapping2 = []\n",
    "for i in range(len(data_names)):\n",
    "    if i not in to_drop2:\n",
    "        feature_mapping2.append(data_names[i])"
   ]
  },
  {
   "cell_type": "markdown",
   "id": "721c5d42",
   "metadata": {},
   "source": [
    "### Set the Encoding Method"
   ]
  },
  {
   "cell_type": "code",
   "execution_count": 11,
   "id": "2fe3d7a5",
   "metadata": {},
   "outputs": [],
   "source": [
    "X = X1\n",
    "y = y1\n",
    "feature_mapping = feature_mapping1"
   ]
  },
  {
   "cell_type": "markdown",
   "id": "b6da0db7",
   "metadata": {},
   "source": [
    "### Calculate feature importance"
   ]
  },
  {
   "cell_type": "code",
   "execution_count": 12,
   "id": "e6801bc5",
   "metadata": {},
   "outputs": [],
   "source": [
    "feature_dict={}\n",
    "high_low_dict = {}\n",
    "    \n",
    "def feature_importance(name, model):\n",
    "    model.fit(X, y)\n",
    "    temp_dict={}\n",
    "    if name == \"SVM Linear\":\n",
    "        importance = [abs(model.coef_[0][i]) for i in range(len(model.coef_[0]))]\n",
    "    else:\n",
    "        importance = model.feature_importances_\n",
    "    for i,v in enumerate(importance):\n",
    "        temp_dict['Feature ' + str(i) + \" (\" + feature_mapping[i] + \")\"] = v\n",
    "        feature_dict[name + ' Feature'] = temp_dict\n",
    "    plt.bar([x for x in range(len(importance))], importance)\n",
    "    plt.show()\n",
    "\n",
    "def high_low_feature(feature_dict):\n",
    "    final_dict={}\n",
    "    for i in feature_dict:\n",
    "        temp_dict={}\n",
    "        max_key = max(feature_dict[i], key=feature_dict[i].get)\n",
    "        max_value = max(feature_dict[i].values())\n",
    "        temp_dict[max_key] = max_value\n",
    "        final_dict[i] = temp_dict\n",
    "    print(final_dict)\n",
    "    "
   ]
  },
  {
   "cell_type": "markdown",
   "id": "5a4a338d",
   "metadata": {},
   "source": [
    "### Train the Model with 20 times of 5-fold Validation"
   ]
  },
  {
   "cell_type": "code",
   "execution_count": 13,
   "id": "fedc25bc",
   "metadata": {},
   "outputs": [
    {
     "name": "stdout",
     "output_type": "stream",
     "text": [
      "The model running is: xgboost\n"
     ]
    },
    {
     "data": {
      "image/png": "[encoded data removed]",
      "text/plain": [
       "<Figure size 432x288 with 1 Axes>"
      ]
     },
     "metadata": {
      "needs_background": "light"
     },
     "output_type": "display_data"
    },
    {
     "name": "stdout",
     "output_type": "stream",
     "text": [
      "{'xgboost Feature': {'Feature 13 (Total_Trans_Ct)': 0.22733772}}\n",
      "the score is 0.9702773085688519 with std of 0.0027494503526537565\n",
      "auc 0.9683759491718398 got added\n",
      "              precision    recall  f1-score   support\n",
      "\n",
      "           0       0.98      0.99      0.98      8500\n",
      "           1       0.93      0.89      0.91      1627\n",
      "\n",
      "    accuracy                           0.97     10127\n",
      "   macro avg       0.95      0.94      0.95     10127\n",
      "weighted avg       0.97      0.97      0.97     10127\n",
      "\n",
      "                 Predicted Negative  Predicted Positive\n",
      "Actual Negative                8387                 113\n",
      "Actual Positive                 172                1455\n",
      "\n",
      "The FN is  172\n",
      "The tn is  8387\n",
      "The tp is  1455\n",
      "The fp is  113\n",
      "\n",
      "The precision is:  0.9279336734693877\n",
      "The recall is:  0.8942839582052858\n",
      "The f1 score is:  0.9107981220657276\n",
      "Area under the Receiver Operating Characteristic curve: 0.9404949202791136\n",
      "\n",
      "The averagve area under the precision-recall curve is: 0.9683759491718398 with std of 0.0\n",
      "\n",
      "The average accuracy is 0.9702773085688519 with the std of 0.0027494503526537565\n",
      "\n"
     ]
    },
    {
     "data": {
      "image/png": "[encoded data removed]",
      "text/plain": [
       "<Figure size 432x288 with 1 Axes>"
      ]
     },
     "metadata": {
      "needs_background": "light"
     },
     "output_type": "display_data"
    },
    {
     "name": "stdout",
     "output_type": "stream",
     "text": [
      "\n"
     ]
    }
   ],
   "source": [
    "number_repeat = 1 #minimum is 1\n",
    "score_dict = {}\n",
    "auc_dict = {}\n",
    "\n",
    "# define models to train\n",
    "names = ['xgboost',\n",
    "#         'Decision Tree',\n",
    "#          'SVM Linear',\n",
    "#          'SVM RBF', \n",
    "#          'SVM Sigmoid'\n",
    "#          'BaggingClassifier',\n",
    "#          'RandomForest',\n",
    "#          'Adaboost'\n",
    "        ]\n",
    "\n",
    "# build classifiers\n",
    "classifiers = [xgb.XGBClassifier(objective=\"binary:logistic\", eval_metric='mlogloss', random_state=42, use_label_encoder=False),\n",
    "#                tree.DecisionTreeClassifier(),\n",
    "#                SVC(kernel='linear', C = 2.0, gamma='scale'),\n",
    "#                SVC(kernel='rbf', C = 2.0, gamma='scale'),\n",
    "#                SVC(kernel='sigmoid', C = 2.0, gamma='scale'),\n",
    "#                BaggingClassifier(n_estimators=200, oob_score = True),\n",
    "#                RandomForestClassifier(n_estimators=300, max_features = \"sqrt\", oob_score = True),\n",
    "#                AdaBoostClassifier(n_estimators=400, learning_rate = 0.6),\n",
    "              ]\n",
    "\n",
    "models = zip(names, classifiers)\n",
    "\n",
    "for name, model in models:\n",
    "    # Use stratified k-fold cross validation to deal with imbalanced data\n",
    "    print(\"The model running is: \" + name)\n",
    "    if name != \"BaggingClassifier\":\n",
    "        feature_importance(name, model)\n",
    "    high_low_feature(feature_dict)\n",
    "    kfold = StratifiedKFold(n_splits=5, shuffle=True)\n",
    "    for i in range(number_repeat):\n",
    "        kfold = StratifiedKFold(n_splits=5, shuffle=True)\n",
    "        scores = cross_val_score(model, X, y, cv = kfold)\n",
    "        if name not in score_dict:\n",
    "            score_dict[name] = [] \n",
    "        score_dict[name].append((scores.mean(), scores.std()))\n",
    "        print(\"the score is\", scores.mean(),\"with std of\", scores.std())\n",
    "        y_pred = cross_val_predict(model, X, y, cv=kfold, method='predict_proba')[:, 1]\n",
    "        if name not in auc_dict:\n",
    "            auc_dict[name] = [] \n",
    "        precision, recall, thresholds = precision_recall_curve(y, y_pred)\n",
    "        auc_precision_recall = auc(recall, precision)\n",
    "        auc_dict[name].append(auc_precision_recall)\n",
    "        print(\"auc\", auc_precision_recall, \"got added\")\n",
    "\n",
    "    y_classification = cross_val_predict(model, X, y, cv=kfold)\n",
    "    y_pred = cross_val_predict(model, X, y, cv=kfold,method='predict_proba')[:, 1]\n",
    "    print(classification_report(y, y_classification))\n",
    "\n",
    "    confusion_mat = confusion_matrix(y, y_classification)\n",
    "    graph = pd.DataFrame(confusion_mat,\n",
    "                         columns=['Predicted Negative', 'Predicted Positive'],\n",
    "                         index=['Actual Negative', 'Actual Positive'])\n",
    "\n",
    "    print(graph)\n",
    "    print()\n",
    "    fn = confusion_mat[1][0]\n",
    "    tn = confusion_mat[0][0]\n",
    "    tp = confusion_mat[1][1]\n",
    "    fp = confusion_mat[0][1] \n",
    "\n",
    "    print(\"The FN is \", fn)\n",
    "    print(\"The tn is \", tn)\n",
    "    print(\"The tp is \", tp)\n",
    "    print(\"The fp is \", fp)\n",
    "\n",
    "    precision = tp / (tp + fp)\n",
    "    recall = tp / (tp + fn)\n",
    "    f1_score = 2 * (precision * recall / (precision + recall))\n",
    "\n",
    "    print()\n",
    "    print(\"The precision is: \", precision)\n",
    "    print(\"The recall is: \", recall)\n",
    "    print(\"The f1 score is: \", f1_score)\n",
    "\n",
    "    print('Area under the Receiver Operating Characteristic curve:', str(roc_auc_score(y, y_classification)))\n",
    "    print()\n",
    "    auc_precision_recall_mean = sum(auc_dict[name]) / len(auc_dict[name])\n",
    "    auc_precision_recall_std = statistics.pstdev(auc_dict[name])\n",
    "    print(\"The averagve area under the precision-recall curve is:\", auc_precision_recall_mean, \"with std of\", auc_precision_recall_std)\n",
    "    print()\n",
    "    temp_list = score_dict[name]\n",
    "    score_mean = 0\n",
    "    score_std = 0\n",
    "    for i in temp_list:\n",
    "        score_mean += i[0]\n",
    "        score_std += i[1]\n",
    "    score_mean /= len(temp_list)\n",
    "    score_std /= len(temp_list)\n",
    "    print(\"The average accuracy is\", score_mean, \"with the std of\", score_std)\n",
    "    print()\n",
    "    precision, recall, thresholds = precision_recall_curve(y, y_pred)\n",
    "    plt.plot(recall, precision)\n",
    "    plt.title(\"Precision-Recall curve of \" + name)\n",
    "    plt.xlabel('Recall')\n",
    "    plt.ylabel('Precision')\n",
    "    plt.show()\n",
    "    print()"
   ]
  },
  {
   "cell_type": "code",
   "execution_count": null,
   "id": "b7fbe403",
   "metadata": {},
   "outputs": [],
   "source": []
  }
 ],
 "metadata": {
  "kernelspec": {
   "display_name": "Python 3 (ipykernel)",
   "language": "python",
   "name": "python3"
  },
  "language_info": {
   "codemirror_mode": {
    "name": "ipython",
    "version": 3
   },
   "file_extension": ".py",
   "mimetype": "text/x-python",
   "name": "python",
   "nbconvert_exporter": "python",
   "pygments_lexer": "ipython3",
   "version": "3.7.4"
  }
 },
 "nbformat": 4,
 "nbformat_minor": 5
}

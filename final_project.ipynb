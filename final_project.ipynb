{
 "cells": [
  {
   "cell_type": "code",
   "execution_count": 1,
   "id": "6b7777fd",
   "metadata": {},
   "outputs": [],
   "source": [
    "import pandas as pd\n",
    "import numpy as np\n",
    "from sklearn.model_selection import KFold, train_test_split, cross_val_score\n",
    "from sklearn.preprocessing import OneHotEncoder\n",
    "from sklearn.pipeline import make_pipeline\n",
    "from sklearn.preprocessing import StandardScaler\n",
    "from sklearn import tree\n",
    "from sklearn.svm import SVC"
   ]
  },
  {
   "cell_type": "code",
   "execution_count": 11,
   "id": "a0d52147",
   "metadata": {},
   "outputs": [],
   "source": [
    "df = pd.read_csv(\"BankChurners.csv\").drop(columns = ['CLIENTNUM'])\n",
    "bank_data = df"
   ]
  },
  {
   "cell_type": "code",
   "execution_count": 13,
   "id": "7b263106",
   "metadata": {},
   "outputs": [],
   "source": [
    "# for col in df:\n",
    "#     print(col, df[col].unique())"
   ]
  },
  {
   "cell_type": "code",
   "execution_count": 4,
   "id": "ca2269cf",
   "metadata": {},
   "outputs": [],
   "source": [
    "#Transfer card category to integers, because there is a hierarical relationship\n",
    "card_cate_map = {'Blue': 0, 'Silver': 1, 'Gold':2, 'Platinum': 3}\n",
    "for i in range(len(bank_data['Card_Category'])):\n",
    "    for j in card_cate_map:\n",
    "        if bank_data['Card_Category'][i] == j:\n",
    "            bank_data.at[i, 'Card_Category'] = card_cate_map[j]       \n",
    "\n",
    "#Transfer education category to integers, because there is a hierarical relationship\n",
    "education_cate_map = {'Unknown':-1,'Uneducated':0,'High School':1,'College':2,'Graduate':3,'Post-Graduate':4, 'Doctorate':5 }\n",
    "for i in range(len(bank_data['Education_Level'])):\n",
    "    for j in education_cate_map:\n",
    "        if bank_data['Education_Level'][i] == j:\n",
    "            bank_data.at[i, 'Education_Level'] = education_cate_map[j]\n",
    "\n",
    "income_cate_map = {'Unknown': -1, 'Less than $40K': 0, '$40K - $60K': 1, '$60K - $80K': 2, '$80K - $120K':3, '$120K +': 4}\n",
    "for i in range(len(bank_data['Income_Category'])):\n",
    "    for j in income_cate_map:\n",
    "        if bank_data['Income_Category'][i] == j:\n",
    "            bank_data.at[i, 'Income_Category'] = income_cate_map[j]\n",
    "            \n",
    "attrition_flag_map = {'Existing Customer': 0, 'Attrited Customer': 1}\n",
    "for i in range(len(bank_data['Attrition_Flag'])):\n",
    "    for j in attrition_flag_map:\n",
    "        if bank_data['Attrition_Flag'][i] == j:\n",
    "            bank_data.at[i, 'Attrition_Flag'] = attrition_flag_map[j]"
   ]
  },
  {
   "cell_type": "code",
   "execution_count": 5,
   "id": "4ba09e1e",
   "metadata": {},
   "outputs": [],
   "source": [
    "data = pd.get_dummies(bank_data, columns = ['Gender','Marital_Status'])\n",
    "data = data.dropna()"
   ]
  },
  {
   "cell_type": "code",
   "execution_count": 6,
   "id": "a589753a",
   "metadata": {},
   "outputs": [],
   "source": [
    "data = data.to_numpy()"
   ]
  },
  {
   "cell_type": "code",
   "execution_count": 7,
   "id": "82bfb4e6",
   "metadata": {},
   "outputs": [],
   "source": [
    "X = data[:, 1:]\n",
    "y = data[:, 0]\n",
    "X_train_1 ,X_val_1, y_train_1, y_val_1 = train_test_split(X, y, test_size=0.3, random_state=0)"
   ]
  },
  {
   "cell_type": "code",
   "execution_count": 84,
   "id": "46aa3ccb",
   "metadata": {},
   "outputs": [
    {
     "name": "stderr",
     "output_type": "stream",
     "text": [
      "C:\\Users\\lione\\Anaconda3\\lib\\site-packages\\sklearn\\model_selection\\_validation.py:372: FitFailedWarning: \n",
      "10 fits failed out of a total of 10.\n",
      "The score on these train-test partitions for these parameters will be set to nan.\n",
      "If these failures are not expected, you can try to debug them by setting error_score='raise'.\n",
      "\n",
      "Below are more details about the failures:\n",
      "--------------------------------------------------------------------------------\n",
      "10 fits failed with the following error:\n",
      "Traceback (most recent call last):\n",
      "  File \"C:\\Users\\lione\\Anaconda3\\lib\\site-packages\\sklearn\\model_selection\\_validation.py\", line 681, in _fit_and_score\n",
      "    estimator.fit(X_train, y_train, **fit_params)\n",
      "  File \"C:\\Users\\lione\\Anaconda3\\lib\\site-packages\\sklearn\\tree\\_classes.py\", line 942, in fit\n",
      "    X_idx_sorted=X_idx_sorted,\n",
      "  File \"C:\\Users\\lione\\Anaconda3\\lib\\site-packages\\sklearn\\tree\\_classes.py\", line 203, in fit\n",
      "    check_classification_targets(y)\n",
      "  File \"C:\\Users\\lione\\Anaconda3\\lib\\site-packages\\sklearn\\utils\\multiclass.py\", line 198, in check_classification_targets\n",
      "    raise ValueError(\"Unknown label type: %r\" % y_type)\n",
      "ValueError: Unknown label type: 'unknown'\n",
      "\n",
      "  warnings.warn(some_fits_failed_message, FitFailedWarning)\n",
      "C:\\Users\\lione\\Anaconda3\\lib\\site-packages\\sklearn\\model_selection\\_validation.py:372: FitFailedWarning: \n",
      "10 fits failed out of a total of 10.\n",
      "The score on these train-test partitions for these parameters will be set to nan.\n",
      "If these failures are not expected, you can try to debug them by setting error_score='raise'.\n",
      "\n",
      "Below are more details about the failures:\n",
      "--------------------------------------------------------------------------------\n",
      "10 fits failed with the following error:\n",
      "Traceback (most recent call last):\n",
      "  File \"C:\\Users\\lione\\Anaconda3\\lib\\site-packages\\sklearn\\model_selection\\_validation.py\", line 681, in _fit_and_score\n",
      "    estimator.fit(X_train, y_train, **fit_params)\n",
      "  File \"C:\\Users\\lione\\Anaconda3\\lib\\site-packages\\sklearn\\svm\\_base.py\", line 199, in fit\n",
      "    y = self._validate_targets(y)\n",
      "  File \"C:\\Users\\lione\\Anaconda3\\lib\\site-packages\\sklearn\\svm\\_base.py\", line 716, in _validate_targets\n",
      "    check_classification_targets(y)\n",
      "  File \"C:\\Users\\lione\\Anaconda3\\lib\\site-packages\\sklearn\\utils\\multiclass.py\", line 198, in check_classification_targets\n",
      "    raise ValueError(\"Unknown label type: %r\" % y_type)\n",
      "ValueError: Unknown label type: 'unknown'\n",
      "\n",
      "  warnings.warn(some_fits_failed_message, FitFailedWarning)\n"
     ]
    },
    {
     "name": "stdout",
     "output_type": "stream",
     "text": [
      "Decision Tree:\n",
      "Preprocess 1: nan  (nan)\n",
      "SVM Linear:\n",
      "Preprocess 1: nan  (nan)\n",
      "SVM RBF:\n",
      "Preprocess 1: nan  (nan)\n",
      "SVM Sigmoid:\n",
      "Preprocess 1: nan  (nan)\n"
     ]
    },
    {
     "name": "stderr",
     "output_type": "stream",
     "text": [
      "C:\\Users\\lione\\Anaconda3\\lib\\site-packages\\sklearn\\model_selection\\_validation.py:372: FitFailedWarning: \n",
      "10 fits failed out of a total of 10.\n",
      "The score on these train-test partitions for these parameters will be set to nan.\n",
      "If these failures are not expected, you can try to debug them by setting error_score='raise'.\n",
      "\n",
      "Below are more details about the failures:\n",
      "--------------------------------------------------------------------------------\n",
      "10 fits failed with the following error:\n",
      "Traceback (most recent call last):\n",
      "  File \"C:\\Users\\lione\\Anaconda3\\lib\\site-packages\\sklearn\\model_selection\\_validation.py\", line 681, in _fit_and_score\n",
      "    estimator.fit(X_train, y_train, **fit_params)\n",
      "  File \"C:\\Users\\lione\\Anaconda3\\lib\\site-packages\\sklearn\\svm\\_base.py\", line 199, in fit\n",
      "    y = self._validate_targets(y)\n",
      "  File \"C:\\Users\\lione\\Anaconda3\\lib\\site-packages\\sklearn\\svm\\_base.py\", line 716, in _validate_targets\n",
      "    check_classification_targets(y)\n",
      "  File \"C:\\Users\\lione\\Anaconda3\\lib\\site-packages\\sklearn\\utils\\multiclass.py\", line 198, in check_classification_targets\n",
      "    raise ValueError(\"Unknown label type: %r\" % y_type)\n",
      "ValueError: Unknown label type: 'unknown'\n",
      "\n",
      "  warnings.warn(some_fits_failed_message, FitFailedWarning)\n",
      "C:\\Users\\lione\\Anaconda3\\lib\\site-packages\\sklearn\\model_selection\\_validation.py:372: FitFailedWarning: \n",
      "10 fits failed out of a total of 10.\n",
      "The score on these train-test partitions for these parameters will be set to nan.\n",
      "If these failures are not expected, you can try to debug them by setting error_score='raise'.\n",
      "\n",
      "Below are more details about the failures:\n",
      "--------------------------------------------------------------------------------\n",
      "10 fits failed with the following error:\n",
      "Traceback (most recent call last):\n",
      "  File \"C:\\Users\\lione\\Anaconda3\\lib\\site-packages\\sklearn\\model_selection\\_validation.py\", line 681, in _fit_and_score\n",
      "    estimator.fit(X_train, y_train, **fit_params)\n",
      "  File \"C:\\Users\\lione\\Anaconda3\\lib\\site-packages\\sklearn\\svm\\_base.py\", line 199, in fit\n",
      "    y = self._validate_targets(y)\n",
      "  File \"C:\\Users\\lione\\Anaconda3\\lib\\site-packages\\sklearn\\svm\\_base.py\", line 716, in _validate_targets\n",
      "    check_classification_targets(y)\n",
      "  File \"C:\\Users\\lione\\Anaconda3\\lib\\site-packages\\sklearn\\utils\\multiclass.py\", line 198, in check_classification_targets\n",
      "    raise ValueError(\"Unknown label type: %r\" % y_type)\n",
      "ValueError: Unknown label type: 'unknown'\n",
      "\n",
      "  warnings.warn(some_fits_failed_message, FitFailedWarning)\n"
     ]
    }
   ],
   "source": [
    "# define the scoring method\n",
    "scoring = 'accuracy'\n",
    "\n",
    "# define models to train\n",
    "names = ['Decision Tree', 'SVM Linear', 'SVM RBF', 'SVM Sigmoid']\n",
    "\n",
    "# build classifiers\n",
    "classifiers = [\n",
    "    tree.DecisionTreeClassifier(),\n",
    "    SVC(kernel='linear', gamma='auto'),\n",
    "    SVC(kernel='rbf', gamma='auto'),\n",
    "    SVC(kernel='sigmoid', gamma='auto'),\n",
    "]\n",
    "\n",
    "models = zip(names, classifiers)\n",
    "\n",
    "# evaluate each model in turn\n",
    "results_1 = []\n",
    "#results_2 = []\n",
    "#results_3 = []\n",
    "names = []\n",
    "\n",
    "for name, model in models:\n",
    "    kfold = KFold(n_splits=10, shuffle=True)\n",
    "    cv_results_1 = cross_val_score(model, X_train_1, y_train_1, cv=kfold, scoring=scoring)\n",
    "    #cv_results_2 = cross_val_score(model, X_train_2, y_train_2, cv=kfold, scoring=scoring)\n",
    "    #cv_results_3 = cross_val_score(model, X_train_3, y_train_3, cv=kfold, scoring=scoring)\n",
    "    results_1.append(cv_results_1)\n",
    "    #results_2.append(cv_results_2)\n",
    "    #results_3.append(cv_results_3)\n",
    "    names.append(name)\n",
    "    #msg = '{0}:\\nPreprocess 1: {1}  ({2})\\nPreprocess 2: {3}  ({4})\\nPreprocess 3: {5}  ({6})'.format(name, cv_results_1.mean(), cv_results_1.std(), cv_results_2.mean(), cv_results_2.std(), cv_results_3.mean(), cv_results_3.std())\n",
    "    msg = '{0}:\\nPreprocess 1: {1}  ({2})'.format(name, cv_results_1.mean(), cv_results_1.std())\n",
    "    print(msg)"
   ]
  },
  {
   "cell_type": "code",
   "execution_count": null,
   "id": "76d358df",
   "metadata": {},
   "outputs": [],
   "source": []
  }
 ],
 "metadata": {
  "kernelspec": {
   "display_name": "Python 3 (ipykernel)",
   "language": "python",
   "name": "python3"
  },
  "language_info": {
   "codemirror_mode": {
    "name": "ipython",
    "version": 3
   },
   "file_extension": ".py",
   "mimetype": "text/x-python",
   "name": "python",
   "nbconvert_exporter": "python",
   "pygments_lexer": "ipython3",
   "version": "3.7.4"
  }
 },
 "nbformat": 4,
 "nbformat_minor": 5
}

{
 "cells": [
  {
   "cell_type": "code",
   "execution_count": 1,
   "id": "097c7ffe",
   "metadata": {},
   "outputs": [],
   "source": [
    "import pandas as pd\n",
    "import numpy as np\n",
    "import statistics\n",
    "import xgboost as xgb\n",
    "from sklearn.experimental import enable_iterative_imputer\n",
    "from sklearn.impute import IterativeImputer\n",
    "from sklearn.model_selection import KFold, train_test_split, cross_val_score, cross_val_predict, StratifiedKFold\n",
    "from sklearn.utils.multiclass import type_of_target\n",
    "from sklearn.preprocessing import OneHotEncoder, LabelEncoder, StandardScaler\n",
    "from sklearn.pipeline import make_pipeline\n",
    "from sklearn import tree\n",
    "from sklearn.svm import SVC\n",
    "import matplotlib.pyplot as plt\n",
    "from sklearn.metrics import confusion_matrix, classification_report, roc_auc_score, roc_curve, plot_confusion_matrix\n",
    "from sklearn.metrics import average_precision_score, precision_recall_curve, auc, plot_precision_recall_curve\n",
    "from sklearn.ensemble import BaggingClassifier, RandomForestClassifier, AdaBoostClassifier"
   ]
  },
  {
   "cell_type": "code",
   "execution_count": 2,
   "id": "c72f7c19",
   "metadata": {},
   "outputs": [],
   "source": [
    "bank_data = pd.read_csv(\"BankChurners.csv\").drop(columns = ['CLIENTNUM'])"
   ]
  },
  {
   "cell_type": "code",
   "execution_count": 3,
   "id": "84a04b1f",
   "metadata": {},
   "outputs": [],
   "source": [
    "bank_data1 = bank_data.replace('Unknown', np.nan)\n",
    "\n",
    "card_cate_map = {'Blue': 0, 'Silver': 1, 'Gold':2, 'Platinum': 3}\n",
    "for i in range(len(bank_data1['Card_Category'])):\n",
    "    for j in card_cate_map:\n",
    "        if bank_data1['Card_Category'][i] == j:\n",
    "            bank_data1.at[i, 'Card_Category'] = card_cate_map[j]       \n",
    "\n",
    "#Transfer education category to integers, because there is a hierarical relationship\n",
    "education_cate_map = {'Uneducated':0,'High School':1,'College':2,'Graduate':3,'Post-Graduate':4, 'Doctorate':5 }\n",
    "for i in range(len(bank_data1['Education_Level'])):\n",
    "    for j in education_cate_map:\n",
    "        if bank_data1['Education_Level'][i] == j:\n",
    "            bank_data1.at[i, 'Education_Level'] = education_cate_map[j]\n",
    "\n",
    "income_cate_map = { 'Less than $40K': 0, '$40K - $60K': 1, '$60K - $80K': 2, '$80K - $120K':3, '$120K +': 4}\n",
    "for i in range(len(bank_data1['Income_Category'])):\n",
    "    for j in income_cate_map:\n",
    "        if bank_data1['Income_Category'][i] == j:\n",
    "            bank_data1.at[i, 'Income_Category'] = income_cate_map[j]\n",
    "            \n",
    "attrition_flag_map = {'Existing Customer': 0, 'Attrited Customer': 1}\n",
    "for i in range(len(bank_data1['Attrition_Flag'])):\n",
    "    for j in attrition_flag_map:\n",
    "        if bank_data1['Attrition_Flag'][i] == j:\n",
    "            bank_data1.at[i, 'Attrition_Flag'] = attrition_flag_map[j]\n",
    "            \n",
    "data1_pd = pd.get_dummies(bank_data1, columns = ['Gender','Marital_Status'])\n",
    "\n",
    "data1_pd.fillna(data1_pd.mean(), inplace=True)\n",
    "\n",
    "data1 = data1_pd.to_numpy()"
   ]
  },
  {
   "cell_type": "code",
   "execution_count": 4,
   "id": "68fe52cf",
   "metadata": {},
   "outputs": [],
   "source": [
    "bank_data2 = bank_data\n",
    "\n",
    "#Transfer card category to integers, because there is a hierarical relationship\n",
    "card_cate_map = {'Blue': 0, 'Silver': 1, 'Gold':2, 'Platinum': 3}\n",
    "for i in range(len(bank_data2['Card_Category'])):\n",
    "    for j in card_cate_map:\n",
    "        if bank_data2['Card_Category'][i] == j:\n",
    "            bank_data2.at[i, 'Card_Category'] = card_cate_map[j]       \n",
    "\n",
    "#Transfer education category to integers, because there is a hierarical relationship\n",
    "education_cate_map = {'Unknown':np.nan,'Uneducated':0,'High School':1,'College':2,'Graduate':3,'Post-Graduate':4, 'Doctorate':5 }\n",
    "for i in range(len(bank_data2['Education_Level'])):\n",
    "    for j in education_cate_map:\n",
    "        if bank_data2['Education_Level'][i] == j:\n",
    "            bank_data2.at[i, 'Education_Level'] = education_cate_map[j]\n",
    "\n",
    "income_cate_map = {'Unknown': np.nan, 'Less than $40K': 0, '$40K - $60K': 1, '$60K - $80K': 2, '$80K - $120K':3, '$120K +': 4}\n",
    "for i in range(len(bank_data2['Income_Category'])):\n",
    "    for j in income_cate_map:\n",
    "        if bank_data2['Income_Category'][i] == j:\n",
    "            bank_data2.at[i, 'Income_Category'] = income_cate_map[j]\n",
    "            \n",
    "attrition_flag_map = {'Existing Customer': 0, 'Attrited Customer': 1}\n",
    "for i in range(len(bank_data2['Attrition_Flag'])):\n",
    "    for j in attrition_flag_map:\n",
    "        if bank_data2['Attrition_Flag'][i] == j:\n",
    "            bank_data2.at[i, 'Attrition_Flag'] = attrition_flag_map[j]\n",
    "            \n",
    "data2_pd = pd.get_dummies(bank_data2, columns = ['Gender','Marital_Status'])\n",
    "data2_np = data2_pd.to_numpy()"
   ]
  },
  {
   "cell_type": "code",
   "execution_count": 5,
   "id": "9b630822",
   "metadata": {},
   "outputs": [],
   "source": [
    "imp_mean = IterativeImputer(random_state=0)\n",
    "imp_mean.fit(data2_np)\n",
    "IterativeImputer(random_state=0)\n",
    "data2 = imp_mean.transform(data2_np)"
   ]
  },
  {
   "cell_type": "code",
   "execution_count": 6,
   "id": "62c71c4c",
   "metadata": {},
   "outputs": [
    {
     "data": {
      "text/plain": [
       "False"
      ]
     },
     "execution_count": 6,
     "metadata": {},
     "output_type": "execute_result"
    }
   ],
   "source": [
    "array_sum = np.sum(data2)\n",
    "array_has_nan = np.isnan(array_sum)\n",
    "array_has_nan"
   ]
  },
  {
   "cell_type": "code",
   "execution_count": 7,
   "id": "89389886",
   "metadata": {},
   "outputs": [],
   "source": [
    "X1 = data1[:, 1:]\n",
    "y1 = data1[:, 0]\n",
    "\n",
    "X2 = data2[:, 1:]\n",
    "y2 = data2[:, 0]\n",
    "\n",
    "# Use LabelEncoder to transform target values into integers.\n",
    "label_encoder = LabelEncoder()\n",
    "y1 = label_encoder.fit_transform(y1)\n",
    "y2 = label_encoder.fit_transform(y2)"
   ]
  },
  {
   "cell_type": "code",
   "execution_count": 8,
   "id": "58b8d79d",
   "metadata": {},
   "outputs": [],
   "source": [
    "# Preprocess the data with the StandardScalar\n",
    "sc_X = StandardScaler()\n",
    "X1 = sc_X.fit_transform(X1)\n",
    "X2 = sc_X.fit_transform(X2)"
   ]
  },
  {
   "cell_type": "code",
   "execution_count": 9,
   "id": "4b90bc50",
   "metadata": {},
   "outputs": [
    {
     "name": "stdout",
     "output_type": "stream",
     "text": [
      "There are 2 columns to be dropped in the first preprocessing dataset\n",
      "There are 2 columns to be dropped in the second preprocessing dataset\n"
     ]
    }
   ],
   "source": [
    "# Removes highly correlated data\n",
    "X1 = pd.DataFrame(X1)\n",
    "cor_matrix1 = X1.corr().abs()\n",
    "# Select upper triangle of correlation matrix\n",
    "upper_tri1 = cor_matrix1.where(np.triu(np.ones(cor_matrix1.shape),k=1).astype(bool))\n",
    "to_drop1 = [column for column in upper_tri1.columns if any(upper_tri1[column] > 0.90)]\n",
    "print(\"There are \" + str(len(to_drop1)) + \" columns to be dropped in the first preprocessing dataset\")\n",
    "X1 = X1.drop(X1.columns[to_drop1], axis = 1)\n",
    "\n",
    "# Removes highly correlated data\n",
    "X2 = pd.DataFrame(X2)\n",
    "cor_matrix2 = X2.corr().abs()\n",
    "# Select upper triangle of correlation matrix\n",
    "upper_tri2 = cor_matrix2.where(np.triu(np.ones(cor_matrix2.shape),k=1).astype(bool))\n",
    "to_drop2 = [column for column in upper_tri2.columns if any(upper_tri2[column] > 0.90)]\n",
    "print(\"There are \" + str(len(to_drop2)) + \" columns to be dropped in the second preprocessing dataset\")\n",
    "X2 = X2.drop(X2.columns[to_drop2], axis = 1)"
   ]
  },
  {
   "cell_type": "code",
   "execution_count": 10,
   "id": "499e1dbc",
   "metadata": {},
   "outputs": [],
   "source": [
    "Xs = [X1, X2]\n",
    "ys = [y1, y2]"
   ]
  },
  {
   "cell_type": "code",
   "execution_count": 11,
   "id": "3d917022",
   "metadata": {},
   "outputs": [],
   "source": [
    "feature_dict={}\n",
    "high_low_dict = {}\n",
    "    \n",
    "def feature_importance(name, model, X, y):\n",
    "    model.fit(X, y)\n",
    "    temp_dict={}\n",
    "    if name == \"SVM Linear\":\n",
    "        importance = [abs(model.coef_[0][i]) for i in range(len(model.coef_[0]))]\n",
    "    else:\n",
    "        importance = model.feature_importances_\n",
    "    for i,v in enumerate(importance):\n",
    "        temp_dict['Feature ' + str(i)] = v\n",
    "        feature_dict[name + ' Feature'] = temp_dict\n",
    "    plt.bar([x for x in range(len(importance))], importance)\n",
    "    plt.show()\n",
    "\n",
    "def high_low_feature(feature_dict):\n",
    "    final_dict={}\n",
    "    for i in feature_dict:\n",
    "        temp_dict={}\n",
    "        max_key = max(feature_dict[i], key=feature_dict[i].get)\n",
    "        max_value = max(feature_dict[i].values())\n",
    "        temp_dict[max_key] = max_value\n",
    "        final_dict[i] = temp_dict\n",
    "    print(final_dict)"
   ]
  },
  {
   "cell_type": "code",
   "execution_count": 12,
   "id": "19ed3437",
   "metadata": {
    "scrolled": false
   },
   "outputs": [
    {
     "name": "stdout",
     "output_type": "stream",
     "text": [
      "Using the preprocessing data 1\n",
      "The model running is: xgboost\n"
     ]
    },
    {
     "data": {
      "image/png": "[encoded data removed]",
      "text/plain": [
       "<Figure size 432x288 with 1 Axes>"
      ]
     },
     "metadata": {
      "needs_background": "light"
     },
     "output_type": "display_data"
    },
    {
     "name": "stdout",
     "output_type": "stream",
     "text": [
      "{'xgboost Feature': {'Feature 13': 0.22733772}}\n",
      "the score is 0.9701785918857324 with std of 0.001916593424974616\n",
      "auc 0.9698845094786189 got added\n",
      "the score is 0.9712656453755499 with std of 0.004514224533111744\n",
      "auc 0.9693380142738808 got added\n",
      "the score is 0.9727460543794864 with std of 0.001605898223361121\n",
      "auc 0.9683683033851103 got added\n",
      "the score is 0.9722521784700133 with std of 0.004343159592051646\n",
      "auc 0.9704041846233976 got added\n",
      "the score is 0.9712648166429017 with std of 0.002621349259315263\n",
      "auc 0.9707071893596853 got added\n",
      "the score is 0.9712653528816741 with std of 0.004405658615276828\n",
      "auc 0.9698949665532473 got added\n",
      "the score is 0.9715614054330738 with std of 0.002174149418968661\n",
      "auc 0.9683831739325546 got added\n",
      "the score is 0.9708699499104236 with std of 0.0006983436784085374\n",
      "auc 0.9716580291954103 got added\n",
      "the score is 0.9708702424042996 with std of 0.001994775087218743\n",
      "auc 0.9691209901464889 got added\n",
      "the score is 0.9711658562148855 with std of 0.0022905076210954682\n",
      "auc 0.9696778339710066 got added\n",
      "              precision    recall  f1-score   support\n",
      "\n",
      "           0       0.98      0.99      0.98      8500\n",
      "           1       0.93      0.89      0.91      1627\n",
      "\n",
      "    accuracy                           0.97     10127\n",
      "   macro avg       0.96      0.94      0.95     10127\n",
      "weighted avg       0.97      0.97      0.97     10127\n",
      "\n",
      "                 Predicted Negative  Predicted Positive\n",
      "Actual Negative                8393                 107\n",
      "Actual Positive                 172                1455\n",
      "\n",
      "The FN is  172\n",
      "The tn is  8393\n",
      "The tp is  1455\n",
      "The fp is  107\n",
      "\n",
      "The precision is:  0.9314980793854033\n",
      "The recall is:  0.8942839582052858\n",
      "The f1 score is:  0.9125117591721543\n",
      "Area under the Receiver Operating Characteristic curve: 0.9408478614555841\n",
      "\n",
      "The averagve area under the precision-recall curve is: 0.96974371949194 with std of 0.0009680573671138176\n",
      "\n",
      "The average accuracy is 0.971344009359804 with the std of 0.002656465945378263\n",
      "\n"
     ]
    },
    {
     "data": {
      "image/png": "[encoded data removed]",
      "text/plain": [
       "<Figure size 432x288 with 1 Axes>"
      ]
     },
     "metadata": {
      "needs_background": "light"
     },
     "output_type": "display_data"
    },
    {
     "name": "stdout",
     "output_type": "stream",
     "text": [
      "\n",
      "Using the preprocessing data 2\n",
      "The model running is: xgboost\n"
     ]
    },
    {
     "data": {
      "image/png": "[encoded data removed]",
      "text/plain": [
       "<Figure size 432x288 with 1 Axes>"
      ]
     },
     "metadata": {
      "needs_background": "light"
     },
     "output_type": "display_data"
    },
    {
     "name": "stdout",
     "output_type": "stream",
     "text": [
      "{'xgboost Feature': {'Feature 13': 0.2185927}}\n",
      "the score is 0.9721543880175009 with std of 0.004362169403030094\n",
      "auc 0.9708535054813 got added\n",
      "the score is 0.9720547938527536 with std of 0.0021333904019027\n",
      "auc 0.9698865591559002 got added\n",
      "the score is 0.9702770648239554 with std of 0.0029732937981898173\n",
      "auc 0.969242911385371 got added\n",
      "the score is 0.9722523247169512 with std of 0.002953674017414317\n",
      "auc 0.9706438433651269 got added\n",
      "the score is 0.9707716719681182 with std of 0.0029644187168243095\n",
      "auc 0.968815827004887 got added\n",
      "the score is 0.9730427406676172 with std of 0.0026927590532279545\n",
      "auc 0.9691473557649994 got added\n",
      "the score is 0.9712655966265705 with std of 0.0037335570742769086\n",
      "auc 0.9701517604371884 got added\n",
      "the score is 0.9707711844783251 with std of 0.001832044449232374\n",
      "auc 0.9696110526781635 got added\n",
      "the score is 0.9724498555811488 with std of 0.0028171767807646576\n",
      "auc 0.9704558182623847 got added\n",
      "the score is 0.9712646216469842 with std of 0.0019892177268565235\n",
      "auc 0.969825640106593 got added\n",
      "              precision    recall  f1-score   support\n",
      "\n",
      "           0       0.98      0.99      0.98      8500\n",
      "           1       0.94      0.89      0.92      1627\n",
      "\n",
      "    accuracy                           0.97     10127\n",
      "   macro avg       0.96      0.94      0.95     10127\n",
      "weighted avg       0.97      0.97      0.97     10127\n",
      "\n",
      "                 Predicted Negative  Predicted Positive\n",
      "Actual Negative                8403                  97\n",
      "Actual Positive                 173                1454\n",
      "\n",
      "The FN is  173\n",
      "The tn is  8403\n",
      "The tp is  1454\n",
      "The fp is  97\n",
      "\n",
      "The precision is:  0.9374597034171502\n",
      "The recall is:  0.8936693300553166\n",
      "The f1 score is:  0.9150409062303335\n",
      "Area under the Receiver Operating Characteristic curve: 0.9411287826747171\n",
      "\n",
      "The averagve area under the precision-recall curve is: 0.9698634273641915 with std of 0.0006390843306221211\n",
      "\n",
      "The average accuracy is 0.9716304242379925 with the std of 0.0028451701421719658\n",
      "\n"
     ]
    },
    {
     "data": {
      "image/png": "[encoded data removed]",
      "text/plain": [
       "<Figure size 432x288 with 1 Axes>"
      ]
     },
     "metadata": {
      "needs_background": "light"
     },
     "output_type": "display_data"
    },
    {
     "name": "stdout",
     "output_type": "stream",
     "text": [
      "\n"
     ]
    }
   ],
   "source": [
    "number_repeat = 10 #minimum is 1\n",
    "scores_list = [{},{}]\n",
    "aucs = [{},{}]\n",
    "\n",
    "# define models to train\n",
    "names = [\n",
    "#        'Decision Tree',\n",
    "#          'SVM Linear',\n",
    "#          'SVM RBF', \n",
    "#          'SVM Sigmoid'\n",
    "#         'BaggingClassifier',\n",
    "#         'RandomForest',\n",
    "#         'Adaboost',\n",
    "            'xgboost'\n",
    "        ]\n",
    "\n",
    "# build classifiers\n",
    "classifiers = [\n",
    "#     tree.DecisionTreeClassifier(),\n",
    "#     SVC(kernel='linear', C = 2.0, gamma='scale'),\n",
    "#     SVC(kernel='rbf', C = 2.0, gamma='scale'),\n",
    "#     SVC(kernel='sigmoid', C = 2.0, gamma='scale'),\n",
    "#     BaggingClassifier(n_estimators=200, oob_score = True),\n",
    "#     RandomForestClassifier(n_estimators=300, max_features = \"sqrt\", oob_score = True),\n",
    "#     AdaBoostClassifier(n_estimators=400, learning_rate = 0.6)\n",
    "     xgb.XGBClassifier(objective=\"binary:logistic\", eval_metric='mlogloss', random_state=42, use_label_encoder=False)\n",
    "]\n",
    "\n",
    "models = zip(names, classifiers)\n",
    "\n",
    "for name, model in models:\n",
    "    # Use stratified k-fold cross validation to deal with imbalanced data\n",
    "    for pre_time in range(2):\n",
    "        print(\"Using the preprocessing data\", pre_time + 1)\n",
    "        score_dict = scores_list[pre_time]\n",
    "        auc_dict = aucs[pre_time]\n",
    "        X = Xs[pre_time]\n",
    "        y = ys[pre_time]\n",
    "        \n",
    "        print(\"The model running is: \" + name)\n",
    "\n",
    "        if name != \"BaggingClassifier\":\n",
    "            feature_importance(name, model, X, y)\n",
    "        high_low_feature(feature_dict)\n",
    "        kfold = StratifiedKFold(n_splits=5, shuffle=True)\n",
    "        for i in range(number_repeat):\n",
    "            kfold = StratifiedKFold(n_splits=5, shuffle=True)\n",
    "            scores = cross_val_score(model, X, y, cv = kfold)\n",
    "            if name not in score_dict:\n",
    "                score_dict[name] = [] \n",
    "            score_dict[name].append((scores.mean(), scores.std()))\n",
    "            print(\"the score is\", scores.mean(),\"with std of\", scores.std())\n",
    "            y_pred = cross_val_predict(model, X, y, cv=kfold, method='predict_proba')[:,1]\n",
    "            if name not in auc_dict:\n",
    "                auc_dict[name] = [] \n",
    "            precision, recall, thresholds = precision_recall_curve(y, y_pred)\n",
    "            auc_precision_recall = auc(recall, precision)\n",
    "            auc_dict[name].append(auc_precision_recall)\n",
    "            print(\"auc\", auc_precision_recall, \"got added\")\n",
    "    \n",
    "        y_classification = cross_val_predict(model, X, y, cv=kfold)\n",
    "        y_pred = cross_val_predict(model, X, y, cv=kfold,method='predict_proba')[:,1]\n",
    "        print(classification_report(y, y_classification))\n",
    "\n",
    "        confusion_mat = confusion_matrix(y, y_classification)\n",
    "        graph = pd.DataFrame(confusion_mat, \n",
    "                 columns=['Predicted Negative', 'Predicted Positive'], \n",
    "                 index=['Actual Negative', 'Actual Positive'])\n",
    "\n",
    "        print(graph)\n",
    "        print()\n",
    "        fn = confusion_mat[1][0]\n",
    "        tn = confusion_mat[0][0]\n",
    "        tp = confusion_mat[1][1]\n",
    "        fp = confusion_mat[0][1] \n",
    "\n",
    "        print(\"The FN is \", fn)\n",
    "        print(\"The tn is \", tn)\n",
    "        print(\"The tp is \", tp)\n",
    "        print(\"The fp is \", fp)\n",
    "\n",
    "        precision = tp / (tp + fp)\n",
    "        recall = tp / (tp + fn)\n",
    "        f1_score = 2 * (precision * recall / (precision + recall))\n",
    "\n",
    "        print()\n",
    "        print(\"The precision is: \", precision)\n",
    "        print(\"The recall is: \", recall)\n",
    "        print(\"The f1 score is: \", f1_score)\n",
    "\n",
    "        print('Area under the Receiver Operating Characteristic curve:', str(roc_auc_score(y, y_classification)))\n",
    "        print()\n",
    "        auc_precision_recall_mean = sum(auc_dict[name]) / len(auc_dict[name])\n",
    "        auc_precision_recall_std = statistics.pstdev(auc_dict[name])\n",
    "        print(\"The averagve area under the precision-recall curve is:\", auc_precision_recall_mean, \"with std of\", auc_precision_recall_std)\n",
    "        print()\n",
    "        temp_list = score_dict[name]\n",
    "        score_mean = 0\n",
    "        score_std = 0\n",
    "        for i in temp_list:\n",
    "            score_mean += i[0]\n",
    "            score_std += i[1]\n",
    "        score_mean /= len(temp_list)\n",
    "        score_std /= len(temp_list)\n",
    "        print(\"The average accuracy is\",score_mean,\"with the std of\",score_std)\n",
    "        print()\n",
    "        precision, recall, thresholds = precision_recall_curve(y, y_pred)\n",
    "        plt.plot(recall, precision)\n",
    "        plt.title(\"Precision-Recall curve of \" + name)\n",
    "        plt.xlabel('Recall')\n",
    "        plt.ylabel('Precision')\n",
    "        plt.show()\n",
    "        print()"
   ]
  }
 ],
 "metadata": {
  "kernelspec": {
   "display_name": "Python 3",
   "language": "python",
   "name": "python3"
  },
  "language_info": {
   "codemirror_mode": {
    "name": "ipython",
    "version": 3
   },
   "file_extension": ".py",
   "mimetype": "text/x-python",
   "name": "python",
   "nbconvert_exporter": "python",
   "pygments_lexer": "ipython3",
   "version": "3.8.8"
  }
 },
 "nbformat": 4,
 "nbformat_minor": 5
}

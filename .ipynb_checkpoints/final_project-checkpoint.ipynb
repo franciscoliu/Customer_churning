{
 "cells": [
  {
   "cell_type": "code",
   "execution_count": 1,
   "id": "f0d0a623",
   "metadata": {},
   "outputs": [],
   "source": [
    "import pandas as pd\n",
    "import numpy as np\n",
    "import statistics\n",
    "from sklearn.experimental import enable_iterative_imputer\n",
    "from sklearn.impute import IterativeImputer\n",
    "from sklearn.model_selection import KFold, train_test_split, cross_val_score, cross_val_predict, StratifiedKFold\n",
    "from sklearn.utils.multiclass import type_of_target\n",
    "from sklearn.preprocessing import OneHotEncoder, LabelEncoder, StandardScaler\n",
    "from sklearn.pipeline import make_pipeline\n",
    "from sklearn import tree\n",
    "from sklearn.svm import SVC\n",
    "import matplotlib.pyplot as plt\n",
    "from sklearn.metrics import confusion_matrix, classification_report, roc_auc_score, roc_curve, plot_confusion_matrix\n",
    "from sklearn.metrics import average_precision_score, precision_recall_curve, auc, plot_precision_recall_curve\n",
    "from sklearn.ensemble import BaggingClassifier, RandomForestClassifier, AdaBoostClassifier"
   ]
  },
  {
   "cell_type": "code",
   "execution_count": 2,
   "id": "ca6e8420",
   "metadata": {},
   "outputs": [],
   "source": [
    "bank_data = pd.read_csv(\"BankChurners.csv\").drop(columns = ['CLIENTNUM'])"
   ]
  },
  {
   "cell_type": "code",
   "execution_count": 4,
   "id": "bd1101db",
   "metadata": {},
   "outputs": [],
   "source": [
    "bank_data1 = bank_data.replace('Unknown', np.nan)\n",
    "\n",
    "card_cate_map = {'Blue': 0, 'Silver': 1, 'Gold':2, 'Platinum': 3}\n",
    "for i in range(len(bank_data1['Card_Category'])):\n",
    "    for j in card_cate_map:\n",
    "        if bank_data1['Card_Category'][i] == j:\n",
    "            bank_data1.at[i, 'Card_Category'] = card_cate_map[j]       \n",
    "\n",
    "#Transfer education category to integers, because there is a hierarical relationship\n",
    "education_cate_map = {'Uneducated':0,'High School':1,'College':2,'Graduate':3,'Post-Graduate':4, 'Doctorate':5 }\n",
    "for i in range(len(bank_data1['Education_Level'])):\n",
    "    for j in education_cate_map:\n",
    "        if bank_data1['Education_Level'][i] == j:\n",
    "            bank_data1.at[i, 'Education_Level'] = education_cate_map[j]\n",
    "\n",
    "income_cate_map = { 'Less than $40K': 0, '$40K - $60K': 1, '$60K - $80K': 2, '$80K - $120K':3, '$120K +': 4}\n",
    "for i in range(len(bank_data1['Income_Category'])):\n",
    "    for j in income_cate_map:\n",
    "        if bank_data1['Income_Category'][i] == j:\n",
    "            bank_data1.at[i, 'Income_Category'] = income_cate_map[j]\n",
    "            \n",
    "attrition_flag_map = {'Existing Customer': 0, 'Attrited Customer': 1}\n",
    "for i in range(len(bank_data1['Attrition_Flag'])):\n",
    "    for j in attrition_flag_map:\n",
    "        if bank_data1['Attrition_Flag'][i] == j:\n",
    "            bank_data1.at[i, 'Attrition_Flag'] = attrition_flag_map[j]\n",
    "            \n",
    "data1_pd = pd.get_dummies(bank_data1, columns = ['Gender','Marital_Status'])\n",
    "\n",
    "data1_pd.fillna(data1_pd.mean(), inplace=True)\n",
    "\n",
    "data1 = data1_pd.to_numpy()"
   ]
  },
  {
   "cell_type": "code",
   "execution_count": 5,
   "id": "a9b125c6",
   "metadata": {},
   "outputs": [],
   "source": [
    "bank_data2 = bank_data\n",
    "\n",
    "#Transfer card category to integers, because there is a hierarical relationship\n",
    "card_cate_map = {'Blue': 0, 'Silver': 1, 'Gold':2, 'Platinum': 3}\n",
    "for i in range(len(bank_data2['Card_Category'])):\n",
    "    for j in card_cate_map:\n",
    "        if bank_data2['Card_Category'][i] == j:\n",
    "            bank_data2.at[i, 'Card_Category'] = card_cate_map[j]       \n",
    "\n",
    "#Transfer education category to integers, because there is a hierarical relationship\n",
    "education_cate_map = {'Unknown':np.nan,'Uneducated':0,'High School':1,'College':2,'Graduate':3,'Post-Graduate':4, 'Doctorate':5 }\n",
    "for i in range(len(bank_data2['Education_Level'])):\n",
    "    for j in education_cate_map:\n",
    "        if bank_data2['Education_Level'][i] == j:\n",
    "            bank_data2.at[i, 'Education_Level'] = education_cate_map[j]\n",
    "\n",
    "income_cate_map = {'Unknown': np.nan, 'Less than $40K': 0, '$40K - $60K': 1, '$60K - $80K': 2, '$80K - $120K':3, '$120K +': 4}\n",
    "for i in range(len(bank_data2['Income_Category'])):\n",
    "    for j in income_cate_map:\n",
    "        if bank_data2['Income_Category'][i] == j:\n",
    "            bank_data2.at[i, 'Income_Category'] = income_cate_map[j]\n",
    "            \n",
    "attrition_flag_map = {'Existing Customer': 0, 'Attrited Customer': 1}\n",
    "for i in range(len(bank_data2['Attrition_Flag'])):\n",
    "    for j in attrition_flag_map:\n",
    "        if bank_data2['Attrition_Flag'][i] == j:\n",
    "            bank_data2.at[i, 'Attrition_Flag'] = attrition_flag_map[j]\n",
    "            \n",
    "data2_pd = pd.get_dummies(bank_data2, columns = ['Gender','Marital_Status'])\n",
    "data2_np = data2_pd.to_numpy()"
   ]
  },
  {
   "cell_type": "code",
   "execution_count": 6,
   "id": "d951078a",
   "metadata": {},
   "outputs": [],
   "source": [
    "imp_mean = IterativeImputer(random_state=0)\n",
    "imp_mean.fit(data2_np)\n",
    "IterativeImputer(random_state=0)\n",
    "data2 = imp_mean.transform(data2_np)"
   ]
  },
  {
   "cell_type": "code",
   "execution_count": 7,
   "id": "9b8b40f6",
   "metadata": {},
   "outputs": [
    {
     "data": {
      "text/plain": [
       "False"
      ]
     },
     "execution_count": 7,
     "metadata": {},
     "output_type": "execute_result"
    }
   ],
   "source": [
    "array_sum = np.sum(data2)\n",
    "array_has_nan = np.isnan(array_sum)\n",
    "array_has_nan"
   ]
  },
  {
   "cell_type": "code",
   "execution_count": 8,
   "id": "1ba1657c",
   "metadata": {},
   "outputs": [],
   "source": [
    "X1 = data1[:, 1:]\n",
    "y1 = data1[:, 0]\n",
    "\n",
    "X2 = data2[:, 1:]\n",
    "y2 = data2[:, 0]\n",
    "\n",
    "# Use LabelEncoder to transform target values into integers.\n",
    "label_encoder = LabelEncoder()\n",
    "y1 = label_encoder.fit_transform(y1)\n",
    "y2 = label_encoder.fit_transform(y2)"
   ]
  },
  {
   "cell_type": "code",
   "execution_count": 9,
   "id": "c7113b4c",
   "metadata": {},
   "outputs": [],
   "source": [
    "# Preprocess the data with the StandardScalar\n",
    "sc_X = StandardScaler()\n",
    "X1 = sc_X.fit_transform(X1)\n",
    "X2 = sc_X.fit_transform(X2)"
   ]
  },
  {
   "cell_type": "code",
   "execution_count": 10,
   "id": "15b9cc90",
   "metadata": {},
   "outputs": [
    {
     "name": "stdout",
     "output_type": "stream",
     "text": [
      "There are 2 columns to be dropped in the first preprocessing dataset\n",
      "There are 2 columns to be dropped in the second preprocessing dataset\n"
     ]
    }
   ],
   "source": [
    "# Removes highly correlated data\n",
    "X1 = pd.DataFrame(X1)\n",
    "cor_matrix1 = X1.corr().abs()\n",
    "# Select upper triangle of correlation matrix\n",
    "upper_tri1 = cor_matrix1.where(np.triu(np.ones(cor_matrix1.shape),k=1).astype(bool))\n",
    "to_drop1 = [column for column in upper_tri1.columns if any(upper_tri1[column] > 0.90)]\n",
    "print(\"There are \" + str(len(to_drop1)) + \" columns to be dropped in the first preprocessing dataset\")\n",
    "X1 = X1.drop(X1.columns[to_drop1], axis = 1)\n",
    "\n",
    "# Removes highly correlated data\n",
    "X2 = pd.DataFrame(X2)\n",
    "cor_matrix2 = X2.corr().abs()\n",
    "# Select upper triangle of correlation matrix\n",
    "upper_tri2 = cor_matrix2.where(np.triu(np.ones(cor_matrix2.shape),k=1).astype(bool))\n",
    "to_drop2 = [column for column in upper_tri2.columns if any(upper_tri2[column] > 0.90)]\n",
    "print(\"There are \" + str(len(to_drop2)) + \" columns to be dropped in the second preprocessing dataset\")\n",
    "X2 = X2.drop(X2.columns[to_drop2], axis = 1)"
   ]
  },
  {
   "cell_type": "code",
   "execution_count": 11,
   "id": "74d1ba28",
   "metadata": {},
   "outputs": [],
   "source": [
    "Xs = [X1, X2]\n",
    "ys = [y1, y2]"
   ]
  },
  {
   "cell_type": "code",
   "execution_count": 12,
   "id": "36dc461e",
   "metadata": {},
   "outputs": [],
   "source": [
    "feature_dict={}\n",
    "high_low_dict = {}\n",
    "    \n",
    "def feature_importance(name, model, X, y):\n",
    "    model.fit(X, y)\n",
    "    temp_dict={}\n",
    "    if name == \"SVM Linear\":\n",
    "        importance = [abs(model.coef_[0][i]) for i in range(len(model.coef_[0]))]\n",
    "    else:\n",
    "        importance = model.feature_importances_\n",
    "    for i,v in enumerate(importance):\n",
    "        temp_dict['Feature ' + str(i)] = v\n",
    "        feature_dict[name + ' Feature'] = temp_dict\n",
    "    plt.bar([x for x in range(len(importance))], importance)\n",
    "    plt.show()\n",
    "\n",
    "def high_low_feature(feature_dict):\n",
    "    final_dict={}\n",
    "    for i in feature_dict:\n",
    "        temp_dict={}\n",
    "        max_key = max(feature_dict[i], key=feature_dict[i].get)\n",
    "        max_value = max(feature_dict[i].values())\n",
    "        temp_dict[max_key] = max_value\n",
    "        final_dict[i] = temp_dict\n",
    "    print(final_dict)"
   ]
  },
  {
   "cell_type": "code",
   "execution_count": 23,
   "id": "41fff4d0",
   "metadata": {},
   "outputs": [
    {
     "name": "stdout",
     "output_type": "stream",
     "text": [
      "Using the preprocessing data 1\n",
      "The model running is: Decision Tree\n"
     ]
    },
    {
     "data": {
      "image/png": "[encoded data removed]",
      "text/plain": [
       "<Figure size 432x288 with 1 Axes>"
      ]
     },
     "metadata": {
      "needs_background": "light"
     },
     "output_type": "display_data"
    },
    {
     "name": "stdout",
     "output_type": "stream",
     "text": [
      "{'Decision Tree Feature': {'Feature 13': 0.2949750498489659}, 'SVM Linear Feature': {'Feature 13': 1.5251336779713256}, 'RandomForest Feature': {'Feature 12': 0.19172531416359767}, 'Adaboost Feature': {'Feature 12': 0.4}}\n",
      "the score is 0.9385807222161286 with std of 0.0036108306206868784\n",
      "auc got added\n",
      "              precision    recall  f1-score   support\n",
      "\n",
      "           0       0.96      0.96      0.96      8500\n",
      "           1       0.81      0.80      0.81      1627\n",
      "\n",
      "    accuracy                           0.94     10127\n",
      "   macro avg       0.89      0.88      0.88     10127\n",
      "weighted avg       0.94      0.94      0.94     10127\n",
      "\n",
      "                 Predicted Negative  Predicted Positive\n",
      "Actual Negative                8192                 308\n",
      "Actual Positive                 322                1305\n",
      "\n",
      "The FN is  322\n",
      "The tn is  8192\n",
      "The tp is  1305\n",
      "The fp is  308\n",
      "\n",
      "The precision is:  0.8090514569125853\n",
      "The recall is:  0.8020897357098955\n",
      "The f1 score is:  0.8055555555555556\n",
      "Area under the Receiver Operating Characteristic curve: 0.8829272207961242\n",
      "\n",
      "The averagve area under the precision-recall curve is: 0.8181300366862235 with std of 0.0\n",
      "\n",
      "The average accuracy is 0.9385807222161286 with the std of 0.0036108306206868784\n",
      "\n"
     ]
    },
    {
     "data": {
      "image/png": "[encoded data removed]",
      "text/plain": [
       "<Figure size 432x288 with 1 Axes>"
      ]
     },
     "metadata": {
      "needs_background": "light"
     },
     "output_type": "display_data"
    },
    {
     "name": "stdout",
     "output_type": "stream",
     "text": [
      "\n",
      "Using the preprocessing data 2\n",
      "The model running is: Decision Tree\n"
     ]
    },
    {
     "data": {
      "image/png": "[encoded data removed]",
      "text/plain": [
       "<Figure size 432x288 with 1 Axes>"
      ]
     },
     "metadata": {
      "needs_background": "light"
     },
     "output_type": "display_data"
    },
    {
     "name": "stdout",
     "output_type": "stream",
     "text": [
      "{'Decision Tree Feature': {'Feature 13': 0.29728889592537683}, 'SVM Linear Feature': {'Feature 13': 1.5251336779713256}, 'RandomForest Feature': {'Feature 12': 0.19172531416359767}, 'Adaboost Feature': {'Feature 12': 0.4}}\n",
      "the score is 0.9356184417388761 with std of 0.005754637061887291\n",
      "auc got added\n",
      "              precision    recall  f1-score   support\n",
      "\n",
      "           0       0.96      0.96      0.96      8500\n",
      "           1       0.81      0.80      0.80      1627\n",
      "\n",
      "    accuracy                           0.94     10127\n",
      "   macro avg       0.88      0.88      0.88     10127\n",
      "weighted avg       0.94      0.94      0.94     10127\n",
      "\n",
      "                 Predicted Negative  Predicted Positive\n",
      "Actual Negative                8187                 313\n",
      "Actual Positive                 332                1295\n",
      "\n",
      "The FN is  332\n",
      "The tn is  8187\n",
      "The tp is  1295\n",
      "The fp is  313\n",
      "\n",
      "The precision is:  0.8053482587064676\n",
      "The recall is:  0.7959434542102028\n",
      "The f1 score is:  0.8006182380216385\n",
      "Area under the Receiver Operating Characteristic curve: 0.8795599623992191\n",
      "\n",
      "The averagve area under the precision-recall curve is: 0.8226053467368081 with std of 0.0\n",
      "\n",
      "The average accuracy is 0.9356184417388761 with the std of 0.005754637061887291\n",
      "\n"
     ]
    },
    {
     "data": {
      "image/png": "[encoded data removed]",
      "text/plain": [
       "<Figure size 432x288 with 1 Axes>"
      ]
     },
     "metadata": {
      "needs_background": "light"
     },
     "output_type": "display_data"
    },
    {
     "name": "stdout",
     "output_type": "stream",
     "text": [
      "\n",
      "Using the preprocessing data 1\n",
      "The model running is: SVM Linear\n"
     ]
    },
    {
     "ename": "AttributeError",
     "evalue": "'RandomForestClassifier' object has no attribute 'coef_'",
     "output_type": "error",
     "traceback": [
      "\u001b[1;31m---------------------------------------------------------------------------\u001b[0m",
      "\u001b[1;31mAttributeError\u001b[0m                            Traceback (most recent call last)",
      "\u001b[1;32m~\\AppData\\Local\\Temp/ipykernel_35616/4176024735.py\u001b[0m in \u001b[0;36m<module>\u001b[1;34m\u001b[0m\n\u001b[0;32m     38\u001b[0m         \u001b[0mprint\u001b[0m\u001b[1;33m(\u001b[0m\u001b[1;34m\"The model running is: \"\u001b[0m \u001b[1;33m+\u001b[0m \u001b[0mname\u001b[0m\u001b[1;33m)\u001b[0m\u001b[1;33m\u001b[0m\u001b[1;33m\u001b[0m\u001b[0m\n\u001b[0;32m     39\u001b[0m         \u001b[1;32mif\u001b[0m \u001b[0mname\u001b[0m \u001b[1;33m!=\u001b[0m \u001b[1;34m\"BaggingClassifier\"\u001b[0m\u001b[1;33m:\u001b[0m\u001b[1;33m\u001b[0m\u001b[1;33m\u001b[0m\u001b[0m\n\u001b[1;32m---> 40\u001b[1;33m             \u001b[0mfeature_importance\u001b[0m\u001b[1;33m(\u001b[0m\u001b[0mname\u001b[0m\u001b[1;33m,\u001b[0m \u001b[0mmodel\u001b[0m\u001b[1;33m,\u001b[0m \u001b[0mXs\u001b[0m\u001b[1;33m[\u001b[0m\u001b[0mpre_time\u001b[0m\u001b[1;33m]\u001b[0m\u001b[1;33m,\u001b[0m \u001b[0mys\u001b[0m\u001b[1;33m[\u001b[0m\u001b[0mpre_time\u001b[0m\u001b[1;33m]\u001b[0m\u001b[1;33m)\u001b[0m\u001b[1;33m\u001b[0m\u001b[1;33m\u001b[0m\u001b[0m\n\u001b[0m\u001b[0;32m     41\u001b[0m         \u001b[0mhigh_low_feature\u001b[0m\u001b[1;33m(\u001b[0m\u001b[0mfeature_dict\u001b[0m\u001b[1;33m)\u001b[0m\u001b[1;33m\u001b[0m\u001b[1;33m\u001b[0m\u001b[0m\n\u001b[0;32m     42\u001b[0m         \u001b[0mkfold\u001b[0m \u001b[1;33m=\u001b[0m \u001b[0mStratifiedKFold\u001b[0m\u001b[1;33m(\u001b[0m\u001b[0mn_splits\u001b[0m\u001b[1;33m=\u001b[0m\u001b[1;36m5\u001b[0m\u001b[1;33m,\u001b[0m \u001b[0mshuffle\u001b[0m\u001b[1;33m=\u001b[0m\u001b[1;32mTrue\u001b[0m\u001b[1;33m)\u001b[0m\u001b[1;33m\u001b[0m\u001b[1;33m\u001b[0m\u001b[0m\n",
      "\u001b[1;32m~\\AppData\\Local\\Temp/ipykernel_35616/3411670236.py\u001b[0m in \u001b[0;36mfeature_importance\u001b[1;34m(name, model, X, y)\u001b[0m\n\u001b[0;32m      6\u001b[0m     \u001b[0mtemp_dict\u001b[0m\u001b[1;33m=\u001b[0m\u001b[1;33m{\u001b[0m\u001b[1;33m}\u001b[0m\u001b[1;33m\u001b[0m\u001b[1;33m\u001b[0m\u001b[0m\n\u001b[0;32m      7\u001b[0m     \u001b[1;32mif\u001b[0m \u001b[0mname\u001b[0m \u001b[1;33m==\u001b[0m \u001b[1;34m\"SVM Linear\"\u001b[0m\u001b[1;33m:\u001b[0m\u001b[1;33m\u001b[0m\u001b[1;33m\u001b[0m\u001b[0m\n\u001b[1;32m----> 8\u001b[1;33m         \u001b[0mimportance\u001b[0m \u001b[1;33m=\u001b[0m \u001b[1;33m[\u001b[0m\u001b[0mabs\u001b[0m\u001b[1;33m(\u001b[0m\u001b[0mmodel\u001b[0m\u001b[1;33m.\u001b[0m\u001b[0mcoef_\u001b[0m\u001b[1;33m[\u001b[0m\u001b[1;36m0\u001b[0m\u001b[1;33m]\u001b[0m\u001b[1;33m[\u001b[0m\u001b[0mi\u001b[0m\u001b[1;33m]\u001b[0m\u001b[1;33m)\u001b[0m \u001b[1;32mfor\u001b[0m \u001b[0mi\u001b[0m \u001b[1;32min\u001b[0m \u001b[0mrange\u001b[0m\u001b[1;33m(\u001b[0m\u001b[0mlen\u001b[0m\u001b[1;33m(\u001b[0m\u001b[0mmodel\u001b[0m\u001b[1;33m.\u001b[0m\u001b[0mcoef_\u001b[0m\u001b[1;33m[\u001b[0m\u001b[1;36m0\u001b[0m\u001b[1;33m]\u001b[0m\u001b[1;33m)\u001b[0m\u001b[1;33m)\u001b[0m\u001b[1;33m]\u001b[0m\u001b[1;33m\u001b[0m\u001b[1;33m\u001b[0m\u001b[0m\n\u001b[0m\u001b[0;32m      9\u001b[0m     \u001b[1;32melse\u001b[0m\u001b[1;33m:\u001b[0m\u001b[1;33m\u001b[0m\u001b[1;33m\u001b[0m\u001b[0m\n\u001b[0;32m     10\u001b[0m         \u001b[0mimportance\u001b[0m \u001b[1;33m=\u001b[0m \u001b[0mmodel\u001b[0m\u001b[1;33m.\u001b[0m\u001b[0mfeature_importances_\u001b[0m\u001b[1;33m\u001b[0m\u001b[1;33m\u001b[0m\u001b[0m\n",
      "\u001b[1;31mAttributeError\u001b[0m: 'RandomForestClassifier' object has no attribute 'coef_'"
     ]
    }
   ],
   "source": [
    "# define the scoring method\n",
    "scoring = 'accuracy'\n",
    "number_repeat = 1 #minimum is 1\n",
    "scores_list = [{},{}]\n",
    "aucs = [{},{}]\n",
    "\n",
    "# define models to train\n",
    "names = ['Decision Tree',\n",
    "         'SVM Linear',\n",
    "#          'SVM RBF', \n",
    "#          'SVM Sigmoid'\n",
    "        'BaggingClassifier',\n",
    "        'RandomForest',\n",
    "        'Adaboost'\n",
    "        ]\n",
    "\n",
    "# build classifiers\n",
    "classifiers = [\n",
    "    tree.DecisionTreeClassifier(),\n",
    "    SVC(kernel='linear', C = 2.0, gamma='scale'),\n",
    "#     SVC(kernel='rbf', C = 2.0, gamma='scale'),\n",
    "#     SVC(kernel='sigmoid', C = 2.0, gamma='scale'),\n",
    "    BaggingClassifier(n_estimators=200, oob_score = True),\n",
    "    RandomForestClassifier(n_estimators=200, max_features = \"sqrt\", oob_score = True),\n",
    "    AdaBoostClassifier(n_estimators=200, learning_rate = 0.3)\n",
    "]\n",
    "\n",
    "models = zip(names, classifiers)\n",
    "\n",
    "# evaluate each model in turn\n",
    "\n",
    "for name, model in models:\n",
    "    # Use stratified k-fold cross validation to deal with imbalanced data\n",
    "    for pre_time in range(2):\n",
    "        print(\"Using the preprocessing data\", pre_time + 1)\n",
    "        score_dict = scores_list[pre_time]\n",
    "        auc_dict = aucs[pre_time]\n",
    "        print(\"The model running is: \" + name)\n",
    "        if name != \"BaggingClassifier\":\n",
    "            feature_importance(name, model, Xs[pre_time], ys[pre_time])\n",
    "        high_low_feature(feature_dict)\n",
    "        kfold = StratifiedKFold(n_splits=5, shuffle=True)\n",
    "        for i in range(number_repeat):\n",
    "            kfold = StratifiedKFold(n_splits=5, shuffle=True)\n",
    "            scores = cross_val_score(model, Xs[pre_time], ys[pre_time], cv = kfold)\n",
    "            if name not in score_dict:\n",
    "                score_dict[name] = [] \n",
    "            score_dict[name].append((scores.mean(), scores.std()))\n",
    "            print(\"the score is\", scores.mean(),\"with std of\", scores.std())\n",
    "            y_pred = cross_val_predict(model, Xs[pre_time], ys[pre_time], cv=kfold)\n",
    "            if name not in auc_dict:\n",
    "                auc_dict[name] = [] \n",
    "            precision, recall, thresholds = precision_recall_curve(ys[pre_time], y_pred)\n",
    "            auc_precision_recall = auc(recall, precision)\n",
    "            auc_dict[name].append(auc_precision_recall)\n",
    "            print(\"auc got added\")\n",
    "\n",
    "        y_pred = cross_val_predict(model, Xs[pre_time], ys[pre_time], cv=kfold)\n",
    "        print(classification_report(ys[pre_time], y_pred))\n",
    "\n",
    "        confusion_mat = confusion_matrix(ys[pre_time], y_pred)\n",
    "        graph = pd.DataFrame(confusion_mat, \n",
    "                 columns=['Predicted Negative', 'Predicted Positive'], \n",
    "                 index=['Actual Negative', 'Actual Positive'])\n",
    "\n",
    "        print(graph)\n",
    "        print()\n",
    "        fn = confusion_mat[1][0]\n",
    "        tn = confusion_mat[0][0]\n",
    "        tp = confusion_mat[1][1]\n",
    "        fp = confusion_mat[0][1] \n",
    "\n",
    "        print(\"The FN is \", fn)\n",
    "        print(\"The tn is \", tn)\n",
    "        print(\"The tp is \", tp)\n",
    "        print(\"The fp is \", fp)\n",
    "\n",
    "        precision = tp / (tp + fp)\n",
    "        recall = tp / (tp + fn)\n",
    "        f1_score = 2 * (precision * recall / (precision + recall))\n",
    "\n",
    "        print()\n",
    "        print(\"The precision is: \", precision)\n",
    "        print(\"The recall is: \", recall)\n",
    "        print(\"The f1 score is: \", f1_score)\n",
    "\n",
    "        print('Area under the Receiver Operating Characteristic curve:', str(roc_auc_score(ys[pre_time], y_pred)))\n",
    "        print()\n",
    "        auc_precision_recall_mean = sum(auc_dict[name]) / len(auc_dict[name])\n",
    "        auc_precision_recall_std = statistics.pstdev(auc_dict[name])\n",
    "        print(\"The averagve area under the precision-recall curve is:\", auc_precision_recall_mean, \"with std of\", auc_precision_recall_std)\n",
    "        print()\n",
    "        temp_list = score_dict[name]\n",
    "        score_mean = 0\n",
    "        score_std = 0\n",
    "        for i in temp_list:\n",
    "            score_mean += i[0]\n",
    "            score_std += i[1]\n",
    "        score_mean /= len(temp_list)\n",
    "        score_std /= len(temp_list)\n",
    "        print(\"The average accuracy is\",score_mean,\"with the std of\",score_std)\n",
    "        print()\n",
    "        precision, recall, thresholds = precision_recall_curve(ys[pre_time], y_pred)\n",
    "        plt.plot(recall, precision)\n",
    "        plt.title(\"Precision-Recall curve of \" + name)\n",
    "        plt.xlabel('Recall')\n",
    "        plt.ylabel('Precision')\n",
    "        plt.show()\n",
    "        print()"
   ]
  },
  {
   "cell_type": "code",
   "execution_count": null,
   "id": "d8430522",
   "metadata": {},
   "outputs": [],
   "source": []
  }
 ],
 "metadata": {
  "kernelspec": {
   "display_name": "Python 3",
   "language": "python",
   "name": "python3"
  },
  "language_info": {
   "codemirror_mode": {
    "name": "ipython",
    "version": 3
   },
   "file_extension": ".py",
   "mimetype": "text/x-python",
   "name": "python",
   "nbconvert_exporter": "python",
   "pygments_lexer": "ipython3",
   "version": "3.8.8"
  }
 },
 "nbformat": 4,
 "nbformat_minor": 5
}
